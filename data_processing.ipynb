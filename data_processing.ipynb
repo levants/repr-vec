{
 "cells": [
  {
   "cell_type": "code",
   "execution_count": null,
   "metadata": {},
   "outputs": [],
   "source": [
    "%load_ext autoreload\n",
    "%autoreload 2\n",
    "\n",
    "%matplotlib inline"
   ]
  },
  {
   "cell_type": "code",
   "execution_count": null,
   "metadata": {},
   "outputs": [],
   "source": [
    "import os"
   ]
  },
  {
   "cell_type": "code",
   "execution_count": null,
   "metadata": {},
   "outputs": [],
   "source": [
    "from fastai.vision import *\n",
    "from repr.dataset.rotation_dataset import label_and_folder, init_databunch, rotation_databunch\n",
    "from utils.io_utils import dump"
   ]
  },
  {
   "cell_type": "code",
   "execution_count": null,
   "metadata": {},
   "outputs": [],
   "source": [
    "from sklearn.model_selection import train_test_split"
   ]
  },
  {
   "cell_type": "markdown",
   "metadata": {},
   "source": [
    "## Generate dataset"
   ]
  },
  {
   "cell_type": "code",
   "execution_count": null,
   "metadata": {},
   "outputs": [],
   "source": [
    "path = Path.home() / 'data' / 'label_engine'\n",
    "src_root = path / 'cropped_base'\n",
    "dst_root = path / 'cropped_base_data'\n",
    "dst_train = dst_root / 'train'\n",
    "dst_valid = dst_root / 'valid'\n",
    "dst_test = dst_root / 'test'\n",
    "dst_root_224 = path / 'rotate_dst_224'\n",
    "dst_root_400 = path / 'rotate_dst_400'\n",
    "dst_root_512 = path / 'rotate_dst_512'\n"
   ]
  },
  {
   "cell_type": "code",
   "execution_count": null,
   "metadata": {},
   "outputs": [],
   "source": [
    "dst_root.mkdir(exist_ok=True)\n",
    "dst_train.mkdir(exist_ok=True)\n",
    "dst_valid.mkdir(exist_ok=True)\n",
    "dst_test.mkdir(exist_ok=True)"
   ]
  },
  {
   "cell_type": "code",
   "execution_count": null,
   "metadata": {},
   "outputs": [],
   "source": [
    "seed=10"
   ]
  },
  {
   "cell_type": "code",
   "execution_count": null,
   "metadata": {},
   "outputs": [],
   "source": [
    "imgs = [img for img in src_root.glob('*.jpg') if os.path.exists(img) and os.path.getsize(img) > 100]"
   ]
  },
  {
   "cell_type": "code",
   "execution_count": null,
   "metadata": {},
   "outputs": [],
   "source": [
    "train_imgs, tail_imgs = train_test_split(imgs, test_size=0.4, random_state=seed)\n",
    "valid_imgs, test_imgs = train_test_split(tail_imgs, test_size=0.5, random_state=seed)\n",
    "len(train_imgs), len(valid_imgs), len(test_imgs)"
   ]
  },
  {
   "cell_type": "code",
   "execution_count": null,
   "metadata": {},
   "outputs": [],
   "source": [
    "dump(train_imgs, dst_train)"
   ]
  },
  {
   "cell_type": "code",
   "execution_count": null,
   "metadata": {},
   "outputs": [],
   "source": [
    "dump(valid_imgs, dst_valid)"
   ]
  },
  {
   "cell_type": "code",
   "execution_count": null,
   "metadata": {},
   "outputs": [],
   "source": [
    "dump(test_imgs, dst_test)"
   ]
  },
  {
   "cell_type": "code",
   "execution_count": null,
   "metadata": {},
   "outputs": [],
   "source": []
  }
 ],
 "metadata": {
  "kernelspec": {
   "display_name": "Python 3",
   "language": "python",
   "name": "python3"
  },
  "language_info": {
   "codemirror_mode": {
    "name": "ipython",
    "version": 3
   },
   "file_extension": ".py",
   "mimetype": "text/x-python",
   "name": "python",
   "nbconvert_exporter": "python",
   "pygments_lexer": "ipython3",
   "version": "3.7.4"
  }
 },
 "nbformat": 4,
 "nbformat_minor": 2
}

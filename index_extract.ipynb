{
 "cells": [
  {
   "cell_type": "code",
   "execution_count": null,
   "metadata": {},
   "outputs": [],
   "source": [
    "%load_ext autoreload\n",
    "%autoreload 2\n",
    "\n",
    "%matplotlib inline"
   ]
  },
  {
   "cell_type": "markdown",
   "metadata": {},
   "source": [
    "## Preprocess and train self-supervised rotation classifier"
   ]
  },
  {
   "cell_type": "code",
   "execution_count": null,
   "metadata": {},
   "outputs": [],
   "source": [
    "import cv2\n",
    "import pandas as pd"
   ]
  },
  {
   "cell_type": "code",
   "execution_count": null,
   "metadata": {},
   "outputs": [],
   "source": [
    "from fastai.vision import *\n",
    "from repr.models.resnet import resnet_vec\n",
    "from repr.models.encoders import Encoder\n",
    "from repr.search.input_utils import init_transforms\n",
    "from repr.search import indexer"
   ]
  },
  {
   "cell_type": "markdown",
   "metadata": {},
   "source": [
    "## Generate dataset"
   ]
  },
  {
   "cell_type": "code",
   "execution_count": null,
   "metadata": {},
   "outputs": [],
   "source": [
    "path = Path('data') \n",
    "weights = path / 'weights' / 'a-rot2-f2.pth'\n",
    "label_engine = path / 'label_engine'\n",
    "src = label_engine / 'ground_true'\n",
    "dst = label_engine / 'db' / 'vectors.pkl'\n",
    "qur = label_engine / 'query_cropped'\n",
    "gt = label_engine / 'gt.csv'"
   ]
  },
  {
   "cell_type": "code",
   "execution_count": null,
   "metadata": {},
   "outputs": [],
   "source": [
    "head = nn.Sequential(nn.AdaptiveAvgPool2d(1), Flatten(), nn.Linear(2048, 4))\n",
    "backbone = resnet_vec('resnet50', head=head, weights=None)"
   ]
  },
  {
   "cell_type": "code",
   "execution_count": null,
   "metadata": {},
   "outputs": [],
   "source": [
    "backbone = nn.Sequential(model[0], model[1][:-1])\n",
    "transforms = init_transforms(h=512, w=512, percnt=0.1, crop_center=True)\n",
    "encoder = Encoder(backbone, transforms)\n",
    "encoder.vec = lambda x: encoder(x)"
   ]
  },
  {
   "cell_type": "code",
   "execution_count": null,
   "metadata": {},
   "outputs": [],
   "source": [
    "encoder"
   ]
  },
  {
   "cell_type": "code",
   "execution_count": null,
   "metadata": {},
   "outputs": [],
   "source": [
    "indexer.index_dir(encoder, src, dst)"
   ]
  },
  {
   "cell_type": "code",
   "execution_count": null,
   "metadata": {},
   "outputs": [],
   "source": [
    "paths = indexer.img_paths(qur)"
   ]
  },
  {
   "cell_type": "code",
   "execution_count": null,
   "metadata": {},
   "outputs": [],
   "source": [
    "result_data = indexer.search_dir(encoder, paths, dst)"
   ]
  },
  {
   "cell_type": "code",
   "execution_count": null,
   "metadata": {},
   "outputs": [],
   "source": [
    "df = pd.read_csv(gt)"
   ]
  },
  {
   "cell_type": "code",
   "execution_count": null,
   "metadata": {},
   "outputs": [],
   "source": [
    "df[df.product_id > 1122]"
   ]
  },
  {
   "cell_type": "code",
   "execution_count": null,
   "metadata": {},
   "outputs": [],
   "source": [
    "product_id = df[(df.omniaz_id == 15003)].values[0][0].item()"
   ]
  },
  {
   "cell_type": "code",
   "execution_count": null,
   "metadata": {},
   "outputs": [],
   "source": [
    "type(product_id)"
   ]
  },
  {
   "cell_type": "code",
   "execution_count": null,
   "metadata": {
    "scrolled": true
   },
   "outputs": [],
   "source": [
    "img, reslt, pt = result_data[1]\n",
    "plt.figure(figsize=(10, 10))\n",
    "plt.title(f'Query')\n",
    "plt.imshow(img)\n",
    "plt.show()\n",
    "omniaz_id = int(pt.stem)\n",
    "product_id = df[(df.omniaz_id == omniaz_id)].values[0][0].item()\n",
    "print(product_id)\n",
    "print('Results')\n",
    "for ds, pt in reslt:\n",
    "    res_img = cv2.imread(str(pt), cv2.IMREAD_ANYCOLOR)\n",
    "    plt.figure(figsize=(10, 10))\n",
    "    result_id = int(pt.stem)\n",
    "    print(result_id == product_id)\n",
    "    plt.title(f'{ds} {pt.stem}')\n",
    "    plt.imshow(res_img)\n",
    "    plt.show()"
   ]
  },
  {
   "cell_type": "code",
   "execution_count": null,
   "metadata": {},
   "outputs": [],
   "source": [
    "for img, reslt in result_data:\n",
    "    plt.figure(figsize=(10, 10))\n",
    "    plt.imshow(img)\n",
    "    print('Results')\n",
    "    for ds, pt in reslt:\n",
    "        res_img = cv2.imread(str(pt), cv2.IMREAD_ANYCOLOR)\n",
    "        plt.figure(figsize=(10, 10))\n",
    "        plt.title(f'{ds}')\n",
    "        plt.imshow(res_img)"
   ]
  },
  {
   "cell_type": "code",
   "execution_count": null,
   "metadata": {},
   "outputs": [],
   "source": []
  }
 ],
 "metadata": {
  "kernelspec": {
   "display_name": "Python 3",
   "language": "python",
   "name": "python3"
  },
  "language_info": {
   "codemirror_mode": {
    "name": "ipython",
    "version": 3
   },
   "file_extension": ".py",
   "mimetype": "text/x-python",
   "name": "python",
   "nbconvert_exporter": "python",
   "pygments_lexer": "ipython3",
   "version": "3.7.4"
  }
 },
 "nbformat": 4,
 "nbformat_minor": 2
}
